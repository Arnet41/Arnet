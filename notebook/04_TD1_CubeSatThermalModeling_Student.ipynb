{
  "cells": [
    {
      "cell_type": "markdown",
      "metadata": {
        "id": "view-in-github",
        "colab_type": "text"
      },
      "source": [
        "<a href=\"https://colab.research.google.com/github/Arnet41/Arnet/blob/master/notebook/04_TD1_CubeSatThermalModeling_Student.ipynb\" target=\"_parent\"><img src=\"https://colab.research.google.com/assets/colab-badge.svg\" alt=\"Open In Colab\"/></a>"
      ]
    },
    {
      "cell_type": "markdown",
      "metadata": {
        "id": "TlG9X2cEbR_k"
      },
      "source": [
        "# Thermal Model for CubeSat\n",
        "\n",
        "The aim of this tutorial is to set up a satellite thermal nodal model in order to assess the power requirements of the thermal control system."
      ]
    },
    {
      "cell_type": "markdown",
      "metadata": {
        "id": "R56Cbo9mbR_n"
      },
      "source": [
        "##  Illumination of satellites\n",
        "\n",
        "Cubsat satellites are generally located in low earth orbit (LEO) at an altitude of between 400 and 600 km.  Their speed is very high, around 27500 km/h or 450 km/min or 7.6 km/s. One rotation around the Earth takes around 90 minutes, and is usually done along an axis perpendicular to the equator. There are therefore around 16 rotations in 24 hours. Their thermal behaviour is strongly influenced by solar radiation and the [Earth's shadows](http://sesp.esep.pro/fr/pages_nanosats/index.html).\n",
        "\n",
        "*Earth shadow:*  \n",
        "![Earth shadow](https://github.com/SizingLab/SystemsEngineeringIntroduction/blob/main/notebook/figures/pression-radiation-solaire-zone-ombre.png?raw=1)\n",
        "    "
      ]
    },
    {
      "cell_type": "markdown",
      "metadata": {
        "id": "PukupiyBbR_o"
      },
      "source": [
        "## Two nodes thermal model\n",
        "\n",
        "The paper [[Rossi, 2013](#References)] outlines the creation of a Thermal Model Analysis for a CubeSat as based on the SwissCube's flight data from 2009 to 2012. The external faces and internal components of the CubeSat were simplified into two nodes of the aforementioned respective general locations, with the external node pertaining to a spherical surface representative of the six faces of a CubeSat 1U at mean temperature, and the internal node being based on the thermally controlled battery pack.\n",
        "\n",
        "*SwissCube thermal model:*\n",
        "![SwissCubeThermalModel](https://github.com/SizingLab/SystemsEngineeringIntroduction/blob/main/notebook/figures/SwissCubeThermalModel.PNG?raw=1)\n",
        "\n",
        "The above illustrated figures show the simplified two node model defined to eventually simulate heat transfers between and within the internal and external references of a cube satellite (left), and the comparison or validation of the created thermal model by [[Rossi, 2013](#References)] as compared to the actual experimental data from the SwissCube satellite (right).\n",
        "\n",
        "The heat transfer in terms of conduction and radiation were analyzed with each node's interactions with the environment and with each other were taken into account with respect to the Fourier and Stefan-Boltzmann Equations, as well as Lambert's law, to ultimately arrive to the following equations:  \n",
        "\n",
        "[1] Solar Radiation: $q_s=A_s\\alpha_sJ_s$  \n",
        "[2] Infrared from Earth: $q_p=A_pF_{s-p}\\varepsilon\\sigma_nT_p^4$  \n",
        "[3] Albedo: $q_a=A_pF_a\\alpha_sJ_sa$  \n",
        "[4] Radiation to Deep Space: $q_r=A_r\\varepsilon\\sigma_nT^4$  \n",
        "\n",
        "Among which the first three equations refer to heat input, and the last to heat output. Where $A$ generally refers to the area, $\\alpha$ the absorptivity, $J_s$ the Solar Constant mean value, $F$ the geometric view factor, $\\varepsilon$ the emmisivity, $\\sigma$ the Stefan-Boltzmann constant, and $T$ the absolute temperature.\n",
        "\n"
      ]
    },
    {
      "cell_type": "markdown",
      "metadata": {
        "id": "dOVdp-8UbR_p"
      },
      "source": [
        "In a more general context, the following equation was used, and the coefficients K and R were derived from the assumption of two concentric nodal spheres with specified radii.<br><br>\n",
        "$C_i\\frac{dT_i}{dt}=\\sum_{i\\not=j}K_{ij}(T_j-T_i)+\\sum_{i\\not=j}R_{ij}(T_j^4-T_i^4)+q_i$, i,j=1,...,n$  \n",
        "\n",
        "$K=\\frac{4\\pi\\lambda r_{int}r_{ext}}{r_{ext}-r_{int}}$  \n",
        "$R=\\frac{4\\pi r_{int}^2}{\\frac{1}{\\varepsilon_{int}}+\\frac{1-\\varepsilon_{ext}}{\\varepsilon_{ext}}(\\frac{r_{int}}{r_{ext}})^2}$  \n",
        "\n",
        "$R_{int}$ and $\\lambda$ parameters was tuned given the flight data and theoretical values. The above figure shows the differential equation with respect to the evolution of time in the system. Overall, the simplified model was proven to be close and consistent in terms of slopes with regards to the actual flight data. To be able to use this lumped parameters model, it is necessary to adapt the value of the parameters to the configurations of interest.\n",
        "\n",
        "*Tuned SwissCube parameters:*  \n",
        "<img src=\"https://github.com/SizingLab/SystemsEngineeringIntroduction/blob/main/notebook/figures/SwissCubeParameters.png?raw=1\" width=\"300\">\n"
      ]
    },
    {
      "cell_type": "code",
      "execution_count": 1,
      "metadata": {
        "id": "MGuG5BhubR_p"
      },
      "outputs": [],
      "source": [
        "import math\n",
        "import numpy as np\n",
        "from scipy.integrate import odeint\n",
        "import matplotlib.pyplot as plt\n",
        "\n",
        "S = 0.06 # [m²] Cubesat surface\n",
        "A = 0.06462 # [m²] Total area for heat transfers\n",
        "A_s = 0.03231 # [m²] Area facing the sun\n",
        "A_p = 0.03231 # [m²] Area facing the planet\n",
        "A_r = 0.06462 # [m²] Radiating area\n",
        "F_sp = 0.5 # [-] view factor between CubeSat and the planet\n",
        "F_a = 0.5 # [-] view factor for the Albedo\n",
        "J_s = 1366 # [W/m²] Mean of the Sun Power\n",
        "E_ext = 0.9 # [-] Emissivity surface\n",
        "E_int = 0.8 # [-] Emissivity internal part\n",
        "SB_const = 5.67e-8 # [-] Stefan Boltzman constant\n",
        "a = 0.34 # [-] Mean albedo value\n",
        "T_p = 288 # [-] Planet temperature\n",
        "ABS_const = 0.65 # [K] Absorbance coefficient\n",
        "C_int = 80 # [J/K] Internal node capacity\n",
        "C_ext = 570  # [J/K] External node capacity\n",
        "HC = 0.25 # [W/mK] Heat conductivity\n",
        "T = 3 # [K] temperature for deep space\n",
        "\n",
        "q_p = A_p*F_sp*E_ext*SB_const*(T_p**4) # Planet radiation\n",
        "q_r = A_r*E_ext*SB_const*(T**4) # Deep space radiation"
      ]
    },
    {
      "cell_type": "markdown",
      "metadata": {
        "id": "quN-7gjkbR_s"
      },
      "source": [
        "## Modelica implementation\n",
        "\n",
        "The figure below shows a Modelica model implementing the various heat transfers described above. The time diagram opposite represents the temporal evolution of the two thermal capacities or nodes of this model.  \n",
        "\n",
        "*Modelica Model:*\n",
        "![Modelica model](https://github.com/SizingLab/SystemsEngineeringIntroduction/blob/main/notebook/figures/2nodesModelicaModel.png?raw=1)\n",
        "\n",
        "> Question: indicate the different phenomena represented by this model.\n"
      ]
    },
    {
      "cell_type": "markdown",
      "metadata": {
        "id": "b-oLzEt5bR_u"
      },
      "source": [
        "## Thermal radiation\n",
        "\n",
        "Heat transfer between the internal and external parts of the satellite can also be achieved by radiative transfer. The  [[Rossi, 2013](#References)] paper assumes transfer between spheres. However, planar geometries may be more realistic, given the shape of the electronic boards that make up the satellites.\n",
        "\n",
        "*Effect of radiation surface form [[Cengel, 2003](#References)]*\n",
        "![Thermal radiation](https://github.com/SizingLab/SystemsEngineeringIntroduction/blob/main/notebook/figures/RadiationArea.png?raw=1)\n",
        "\n",
        "The emissivity coefficient depends on the nature of the surfaces (paint function, for example) or on specfic interfaces such as MLI (Multi-Layer Insulation) blankets.  \n",
        "\n",
        "**Note:** Link to a [Data base of emissivity coefficients](https://www.design1st.com/Design-Resource-Library/engineering_data/ThermalEmissivityValues.pdf).\n"
      ]
    },
    {
      "cell_type": "markdown",
      "metadata": {
        "id": "IKOPDGQjbR_v"
      },
      "source": [
        "> **Exercice:** Implement the python code defining the radiation coefficient $R$ between the internal and external nodes of the thermal model. It will be assumed that this corresponds to the radiation from the 2 faces of a flat parallelepiped with a square surface area of 70 mm on each side.  "
      ]
    },
    {
      "cell_type": "code",
      "execution_count": 5,
      "metadata": {
        "colab": {
          "base_uri": "https://localhost:8080/"
        },
        "id": "1MwVG44abR_v",
        "outputId": "f3e41ca4-8faa-4f80-9cb7-536619e73e8a"
      },
      "outputs": [
        {
          "output_type": "stream",
          "name": "stdout",
          "text": [
            "Radiation coefficient : R=4.08e-10 W/K^4\n"
          ]
        }
      ],
      "source": [
        "R = 2*((0.07*0.07)*SB_const)/(1/E_int+1/E_ext-1)  # Plate radiation coefficient\n",
        "# Formule du dessus : Q. = R*(T1^4-T2^4) et facteur 2 car la batterie a 2 faces\n",
        "print(\"Radiation coefficient : R=%.2e W/K^4\"%R)"
      ]
    },
    {
      "cell_type": "markdown",
      "metadata": {
        "id": "MB24wLirbR_w"
      },
      "source": [
        "## Thermal conductance\n",
        "\n",
        "The conductive heat transfer term depends on the nature and shape of the fasteners linking the cards to the satelitte structure.\n",
        "Nylon, invar or permaglass can be used to make cylinder-like spacers.\n",
        "\n",
        "*Card spacers*  \n",
        "![Spacers](https://github.com/SizingLab/SystemsEngineeringIntroduction/blob/main/notebook/figures/Spacer.PNG?raw=1)\n",
        "\n",
        "| Material | Thermal conductivity |\n",
        "| --- | --- |\n",
        "| Nylon | 0.25 W/mK  |\n",
        "| Invar | 5.8 W/mK  |\n",
        "| Stainless steel | 14 W/mK |\n",
        "| Permaglass | 0.35 W/mK   |\n",
        "\n",
        "Note: Nylon has less mechanical strength at high temperatures.\n",
        "\n",
        "> **Question:** Suggest the expression for a conduction term $K$ corresponding to 4 Permaglass spacers of diameter $D_{spacer}$ (6 mm) and length $L_{spacer}$ (15 mm)."
      ]
    },
    {
      "cell_type": "code",
      "execution_count": 10,
      "metadata": {
        "colab": {
          "base_uri": "https://localhost:8080/"
        },
        "id": "EhqP3OygbR_w",
        "outputId": "8647ef4b-5078-43ee-bd7b-58433ccf9733"
      },
      "outputs": [
        {
          "output_type": "stream",
          "name": "stdout",
          "text": [
            "Conduction coefficient : K=2.64e-03 W/K\n"
          ]
        }
      ],
      "source": [
        "Dspacer = 6e-3 # [m] spacer diameter\n",
        "Lspacer = 15e-3 # [m] length of a spacer\n",
        "Sspacer = 3.14*(Dspacer/2)**2 # [m²] area with diameter\n",
        "kspacer = 0.35 # [W/m/K] thermal conductivity\n",
        "\n",
        "nspacer = 4 # [-] spacers number\n",
        "\n",
        "Rth = Lspacer/(kspacer*Sspacer) # L/k*A car Q.cond = (k*A/L)*(T1-T2)\n",
        "K = nspacer*(1/Rth)\n",
        "\n",
        "print(\"Conduction coefficient : K=%.2e W/K\"%K)"
      ]
    },
    {
      "cell_type": "markdown",
      "metadata": {
        "id": "ztz5vOBAbR_x"
      },
      "source": [
        "## Thermal Capacitance\n",
        "\n",
        "The internal capacitance, assumed being 80 J/K in the paper, is mainly due to the battery pack. The [SwissCube Satellite](https://https://pw-sat.pl/wp-content/uploads/2014/07/PW-Sat2-A-03.00-EPS-PRR-EN-v1.1.pdf) utilized two (2) Varta PoLiFlex LiPo (Lithium Polymer) PLF503759 batteries with a maximum voltage of 4.2 V and a capacity of 1210 mAh of mass of 22.5 g, and dimensions of 58.7 x 5.2 x 37.0 mm (L-H-W).\n",
        "\n",
        "> **Question:** Evaluate the thermal capacitance of a battery pack + instrumentation cards composed of :\n",
        ">- 2 Varta cells\n",
        ">- One aluminum box of thickness 0.5 mm\n",
        ">- 1 mm thick epoxy resin\n",
        ">- 4 PCB card 90x90 mm² and 1.8 mm thick\n",
        "\n",
        "with the assumptions:  \n",
        "$c_{lipo}=1000 J/(kg.K)$ and $m=22.5g$  \n",
        "$c_{alu}=896 J/(kg.K)$ and $\\rho_{alu}=2700 kg/m^3$     \n",
        "$c_{epoxy}=300 J/(kg.K)$ and $\\rho_{epoxy}=1440 kg/m^3$"
      ]
    },
    {
      "cell_type": "code",
      "execution_count": 13,
      "metadata": {
        "colab": {
          "base_uri": "https://localhost:8080/"
        },
        "id": "nquNMtsSpsbp",
        "outputId": "298df643-e4f2-4950-ec6d-4f641d762772"
      },
      "outputs": [
        {
          "output_type": "stream",
          "name": "stdout",
          "text": [
            "Internal Capacitance C_th_int: 77.2 J/K\n"
          ]
        }
      ],
      "source": [
        "c_lipo = 1000 # [J/kgK]\n",
        "c_alu = 896 # [J/kgK]\n",
        "c_epoxy = 300 # [J/kgK]\n",
        "\n",
        "p_alu = 2700 # [kg/m3]\n",
        "p_epoxy = 1440 # [kg/m3]\n",
        "\n",
        "SA = 28.7e-3*37e-3*2 # [m²] Battery Surface\n",
        "\n",
        "m_lipo = 22.5e-3*2\n",
        "m_alu = p_alu*0.5e-3*SA*2\n",
        "m_epoxy = p_epoxy*1e-3*SA*2\n",
        "m_pcb = 4*90e-3*90e-3*1.8e-3*p_epoxy\n",
        "\n",
        "C_th_tot = (c_lipo*m_lipo+c_alu*m_alu+c_epoxy*m_epoxy+m_pcb*c_epoxy) # Eth = m*Cp*(T1-T2) = C*(T1-T2)\n",
        "# Capacité = une sorte de résistance qui s'oppose à la variation de température\n",
        "print(\"Internal Capacitance C_th_int: %.1f J/K\" % (C_th_tot))\n"
      ]
    },
    {
      "cell_type": "markdown",
      "metadata": {
        "id": "mlBL9cstbR_y"
      },
      "source": [
        "## Python transient response\n",
        "\n",
        "The rest of the tutorial will enable you to obtain the same type Modelica result using a simulation based on Python. Differential equations are solved in Python with the Scipy.integrate package using function `odeint`  or `solve_ivp`.\n",
        "\n",
        "> **Exercice:** Adapt the examples in the [following tutorial](https://apmonitor.com/pdc/index.php/Main/SolveDifferentialEquations) (APMonitor) to calculate the temperature evolution of the Cubesat's 2 characteristic nodes (external envelope and internal battery node). You will need to integrate a set of 2 differential equations.   "
      ]
    },
    {
      "cell_type": "code",
      "execution_count": 19,
      "metadata": {
        "colab": {
          "base_uri": "https://localhost:8080/",
          "height": 500
        },
        "id": "_LE-_5LlbR_y",
        "outputId": "70ff6ce2-f570-4510-c611-41a32c62fb4e"
      },
      "outputs": [
        {
          "output_type": "stream",
          "name": "stderr",
          "text": [
            "<ipython-input-19-1061bfac2f8f>:48: ODEintWarning: Excess work done on this call (perhaps wrong Dfun type). Run with full_output = 1 to get quantitative information.\n",
            "  z = odeint(model,y0,tspan)\n"
          ]
        },
        {
          "output_type": "display_data",
          "data": {
            "text/plain": [
              "<Figure size 640x480 with 1 Axes>"
            ],
            "image/png": "[encoded data removed]"
          },
          "metadata": {}
        }
      ],
      "source": [
        "HYST = False\n",
        "\n",
        "def model(y,t):\n",
        "    global power\n",
        "    T1 = y[0] # Internal temperature\n",
        "    T2 = y[1] # External temperature\n",
        "\n",
        "    if (t/(90*60) % 1)<0.5:\n",
        "      q_s = A_s*ABS_const*J_s # Sun power\n",
        "      q_a = A_p*F_a*ABS_const*J_s*a # Albedo power\n",
        "    else:\n",
        "      q_s = 0\n",
        "      q_a = 0\n",
        "\n",
        "    q_sp = A_p*F_sp*E_ext*SB_const*((T2+273.15)**4) # Satellite -> Planet radiation\n",
        "    q_sr = A_r*E_ext*SB_const*((T2+273.15)**4) # Satellite -> Space radiation\n",
        "\n",
        "    # Power exchange between external and internal node\n",
        "    if HYST == True:\n",
        "        q_int=relay(T1)\n",
        "    else:\n",
        "        q_int=0\n",
        "\n",
        "    Pint= (K*(T2-T1))+(R*((T2+273.15)**4-(T1+273.15)**4)) + q_int\n",
        "        #utilized q_int to keep heat target\n",
        "\n",
        "    # Internal temperature variation\n",
        "    dT1dt = (1/C_int)*(-K*(T1-T2)+R*(T2**4-T1**4)+q_int) # C1*dT1/dt = -K*(T1-T2) + R*(T2^4-T1^4) +q_int\n",
        "\n",
        "    # External temperature variation\n",
        "    dT2dt = (1/C_ext)*(-K*(T2-T1)-R*(T2**4-T1**4)+q_sp+q_sr+q_a+q_s) # C2*dT2/dt = -K*(T2-T1) - R*(T2^4-T1^4) + Somme;1-3;(q_i) + q_ray\n",
        "\n",
        "    dydt = [dT1dt,dT2dt]\n",
        "\n",
        "    return dydt\n",
        "\n",
        "y0 = [0,5]\n",
        "\n",
        "t = np.linspace(0,30000,1000)\n",
        "T1 = np.empty_like(t)\n",
        "T2 = np.empty_like(t)\n",
        "T1[0]=y0[1]\n",
        "T2[0]=y0[0]\n",
        "for i in range(1,1000):\n",
        "    # span for next time step\n",
        "    tspan = [t[i-1],t[i]]\n",
        "    # solve for next step\n",
        "    z = odeint(model,y0,tspan)\n",
        "    # store solution for plotting\n",
        "    T1[i] = z[1][0]\n",
        "    T2[i] = z[1][1]\n",
        "    # next initial condition\n",
        "    y0 = z[1]\n",
        "\n",
        "\n",
        "\n",
        "plt.plot(t/60,y)\n",
        "plt.legend(('Int', 'Ext'))\n",
        "plt.xlabel('Time [min]')\n",
        "plt.ylabel('Temperature [°C]')\n",
        "plt.show()"
      ]
    },
    {
      "cell_type": "markdown",
      "metadata": {
        "id": "-BdznRS0LoKS"
      },
      "source": [
        "## Defining the power needs for a CubeSat Battery Pack Heating Solution\n",
        "\n",
        "> **Exercise:** use the previous results to display the thermal power exchanged between the internal node and the external node. Deduce a minimum value for the heating power to be supplied to the batteries to maintain a constant temperature.\n"
      ]
    },
    {
      "cell_type": "code",
      "execution_count": null,
      "metadata": {
        "id": "JvRvNiDylWMr"
      },
      "outputs": [],
      "source": [
        "#T1=y[:,0]\n",
        "#T2=y[:,1]\n",
        "\n",
        "# Pint=......\n",
        "\n",
        "#plt.plot(t/60,Pint)\n",
        "#plt.xlabel('Time [min]')\n",
        "#plt.ylabel('Thermal Power [W]')\n",
        "#plt.show()\n"
      ]
    },
    {
      "cell_type": "markdown",
      "metadata": {
        "id": "xXiFd9-HbR_z"
      },
      "source": [
        "> **Exercise:** modify the numerical model to incorporate thermal relay control with hysteresis between 15 and 20°C. Test different heating value. Conclusion.\n",
        "\n",
        "*Modelica model of relay control with hysteresis:*\n",
        "![Modelica model](https://github.com/SizingLab/SystemsEngineeringIntroduction/blob/main/notebook/figures/RelayControl.png?raw=1)"
      ]
    },
    {
      "cell_type": "code",
      "execution_count": null,
      "metadata": {
        "id": "-_VUNEyxbR_z"
      },
      "outputs": [],
      "source": [
        "#Heat = ...\n",
        "#StateHeat = True\n",
        "\n",
        "#def relay(Temp):\n",
        "#    global StateHeat, Heat\n",
        "#\n",
        "# ...\n",
        "#\n",
        "#    return Heat if StateHeat else 0\n",
        "\n",
        "#HYST = True\n",
        "\n",
        "#y0 = [0,5]\n",
        "#t = np.linspace(0,30000,1000)\n",
        "#y = odeint(model,y0,t)\n",
        "\n",
        "\n",
        "#plt.plot(t/60,y)\n",
        "#plt.legend(('Int', 'Ext'))\n",
        "#plt.xlabel('Time [min]')\n",
        "#plt.ylabel('Temperature [°C]')\n",
        "#plt.show()\n"
      ]
    },
    {
      "cell_type": "markdown",
      "metadata": {
        "id": "CObgexBtbR_z"
      },
      "source": [
        "## Homework\n",
        "\n",
        ">- Propose an active solution (power resistor, silicon patch, ...) compatible with the Swisscube application (7.4 V voltage)\n",
        ">- Give components references available [here](https://fr.rs-online.com/web/)\n",
        ">- Prepare 2 slides of technical justification and components selection\n"
      ]
    },
    {
      "cell_type": "markdown",
      "metadata": {
        "id": "NB2UOrlPbR_z"
      },
      "source": [
        "## References\n",
        "\n",
        "[Rossi, 2013] Rossi, S., & Ivanov, A. (2013, September). Thermal model for cubesat: A simple and easy model from the Swisscube’s thermal flight data. In Proceedings of the International Astronautical Congress (Vol. 13, pp. 9919-9928). [Link](https://www.researchgate.net/publication/299535685_THERMAL_MODEL_FOR_CUBESAT_A_SIMPLE_AND_EASY_MODEL_FROM_THE_SWISSCUBE%27S_THERMAL_FLIGHT_DATA)\n",
        "\n",
        "[Cengel, 2003] Cengel, A. (2003). Heat transfer. New York: McGraw-Hill."
      ]
    },
    {
      "cell_type": "code",
      "execution_count": null,
      "metadata": {
        "id": "X-GDa0WXbR_z"
      },
      "outputs": [],
      "source": []
    }
  ],
  "metadata": {
    "colab": {
      "provenance": [],
      "include_colab_link": true
    },
    "kernelspec": {
      "display_name": "Python 3 (ipykernel)",
      "language": "python",
      "name": "python3"
    },
    "language_info": {
      "codemirror_mode": {
        "name": "ipython",
        "version": 3
      },
      "file_extension": ".py",
      "mimetype": "text/x-python",
      "name": "python",
      "nbconvert_exporter": "python",
      "pygments_lexer": "ipython3",
      "version": "3.9.13"
    }
  },
  "nbformat": 4,
  "nbformat_minor": 0
}